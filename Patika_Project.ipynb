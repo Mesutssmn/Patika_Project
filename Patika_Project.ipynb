{
  "nbformat": 4,
  "nbformat_minor": 0,
  "metadata": {
    "colab": {
      "provenance": []
    },
    "kernelspec": {
      "name": "python3",
      "display_name": "Python 3"
    },
    "language_info": {
      "name": "python"
    }
  },
  "cells": [
    {
      "cell_type": "code",
      "source": [
        "def flatten(liste):\n",
        "    result = []\n",
        "    for item in liste:\n",
        "        if isinstance(item, list):\n",
        "            result.extend(flatten(item))\n",
        "        else:\n",
        "            result.append(item)\n",
        "    return result"
      ],
      "metadata": {
        "id": "QlhW5LVkSM9Q"
      },
      "execution_count": 3,
      "outputs": []
    },
    {
      "cell_type": "code",
      "source": [
        "def reverse(lst):\n",
        "    result = []\n",
        "    for item in lst:\n",
        "        if isinstance(item, list):\n",
        "            result.append(reverse(item)[::-1])\n",
        "        else:\n",
        "            result.append(item)\n",
        "    return result[::-1]"
      ],
      "metadata": {
        "id": "WhtddCwrZzTA"
      },
      "execution_count": 4,
      "outputs": []
    },
    {
      "cell_type": "code",
      "source": [
        "liste1=[[1,'a',['cat'],2],[[[3]],'dog'],4,5]"
      ],
      "metadata": {
        "id": "bF-4CV2UaEk5"
      },
      "execution_count": 5,
      "outputs": []
    },
    {
      "cell_type": "code",
      "source": [
        "flatten(liste1)"
      ],
      "metadata": {
        "colab": {
          "base_uri": "https://localhost:8080/"
        },
        "id": "RU-tMv9CZ1md",
        "outputId": "bf42ee1f-7430-4703-9ac7-863747a6e878"
      },
      "execution_count": 6,
      "outputs": [
        {
          "output_type": "execute_result",
          "data": {
            "text/plain": [
              "[1, 'a', 'cat', 2, 3, 'dog', 4, 5]"
            ]
          },
          "metadata": {},
          "execution_count": 6
        }
      ]
    },
    {
      "cell_type": "code",
      "source": [
        "reverse(liste1)"
      ],
      "metadata": {
        "colab": {
          "base_uri": "https://localhost:8080/"
        },
        "id": "IBL7jN64aKRY",
        "outputId": "cb043e28-6d1d-49b5-ad46-effd15cf7d18"
      },
      "execution_count": 7,
      "outputs": [
        {
          "output_type": "execute_result",
          "data": {
            "text/plain": [
              "[5, 4, [[[3]], 'dog'], [1, 'a', ['cat'], 2]]"
            ]
          },
          "metadata": {},
          "execution_count": 7
        }
      ]
    },
    {
      "cell_type": "code",
      "source": [],
      "metadata": {
        "id": "PG0_iZ7zab_8"
      },
      "execution_count": null,
      "outputs": []
    }
  ]
}